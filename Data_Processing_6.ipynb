{
 "cells": [
  {
   "cell_type": "code",
   "execution_count": 101,
   "metadata": {
    "collapsed": true
   },
   "outputs": [],
   "source": [
    "import pandas as pd\n",
    "import glob\n",
    "import numpy as np"
   ]
  },
  {
   "cell_type": "code",
   "execution_count": 103,
   "metadata": {
    "collapsed": false
   },
   "outputs": [],
   "source": [
    "# ---------- Read In Data\n",
    "# load in genuine accounts data\n",
    "genuine = pd.read_csv(open('/Users/Aaron/Desktop/STA160/Dataset/User dataset/genuine account.csv', 'rU'), \n",
    "                      encoding = 'utf-8', index_col = 0)\n",
    "\n",
    "# load in fake accounts data\n",
    "path =r'/Users/Aaron/Desktop/STA160/Dataset/User dataset/fake data/'\n",
    "allFiles = glob.glob(path + \"/*.csv\")\n",
    "fake = pd.DataFrame()\n",
    "list_ = []\n",
    "for file_ in allFiles:\n",
    "    df = pd.read_csv(open(file_, 'rU'), encoding = 'utf-8', index_col = 0)\n",
    "    list_.append(df)\n",
    "fake = pd.concat(list_)"
   ]
  },
  {
   "cell_type": "code",
   "execution_count": 104,
   "metadata": {
    "collapsed": false
   },
   "outputs": [],
   "source": [
    "# label \n",
    "\n",
    "fake['label'] = 'fake'\n",
    "genuine['label'] = 'genuine'"
   ]
  },
  {
   "cell_type": "code",
   "execution_count": 105,
   "metadata": {
    "collapsed": false
   },
   "outputs": [],
   "source": [
    "name = [str(i) for i in fake.columns.values]"
   ]
  },
  {
   "cell_type": "code",
   "execution_count": 106,
   "metadata": {
    "collapsed": false
   },
   "outputs": [],
   "source": [
    "# combine & rename\n",
    "final_frame = pd.concat([fake, genuine],ignore_index = True, axis = 0)\n",
    "final_frame = final_frame[name]"
   ]
  },
  {
   "cell_type": "code",
   "execution_count": 107,
   "metadata": {
    "collapsed": false
   },
   "outputs": [],
   "source": []
  },
  {
   "cell_type": "code",
   "execution_count": 112,
   "metadata": {
    "collapsed": false
   },
   "outputs": [],
   "source": [
    "check = final_frame['lang'] == 'en'\n",
    "data = final_frame[check]"
   ]
  },
  {
   "cell_type": "code",
   "execution_count": 113,
   "metadata": {
    "collapsed": true
   },
   "outputs": [],
   "source": [
    "data.to_csv('final data.csv', encoding='utf-8')"
   ]
  },
  {
   "cell_type": "code",
   "execution_count": null,
   "metadata": {
    "collapsed": true
   },
   "outputs": [],
   "source": []
  }
 ],
 "metadata": {
  "anaconda-cloud": {},
  "kernelspec": {
   "display_name": "Python [conda root]",
   "language": "python",
   "name": "conda-root-py"
  },
  "language_info": {
   "codemirror_mode": {
    "name": "ipython",
    "version": 2
   },
   "file_extension": ".py",
   "mimetype": "text/x-python",
   "name": "python",
   "nbconvert_exporter": "python",
   "pygments_lexer": "ipython2",
   "version": "2.7.12"
  }
 },
 "nbformat": 4,
 "nbformat_minor": 2
}
