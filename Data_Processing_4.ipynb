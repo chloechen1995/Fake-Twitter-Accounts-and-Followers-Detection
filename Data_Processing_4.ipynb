{
 "cells": [
  {
   "cell_type": "code",
   "execution_count": 13,
   "metadata": {
    "collapsed": true
   },
   "outputs": [],
   "source": [
    "import pandas as pd\n",
    "import glob\n",
    "from api import *\n",
    "import csv"
   ]
  },
  {
   "cell_type": "code",
   "execution_count": 4,
   "metadata": {
    "collapsed": false
   },
   "outputs": [],
   "source": [
    "# read all the files\n",
    "genuine = pd.read_csv(open('User dataset/genuine account.csv', 'rU'), \n",
    "                      encoding = 'utf-8', usecols = ['id'] )\n",
    "\n",
    "# load in fake accounts data\n",
    "path =r'./User dataset/fake data/'\n",
    "allFiles = glob.glob(path + \"/*.csv\")\n",
    "fake = pd.DataFrame()\n",
    "list_ = []\n",
    "for file_ in allFiles:\n",
    "    df = pd.read_csv(open(file_, 'rU'), encoding = 'utf-8', usecols = ['id'])\n",
    "    list_.append(df)\n",
    "fake = pd.concat(list_)\n",
    "# merge all the data \n",
    "all_ids = pd.concat([genuine, fake])"
   ]
  },
  {
   "cell_type": "code",
   "execution_count": 5,
   "metadata": {
    "collapsed": true
   },
   "outputs": [],
   "source": [
    "# create a list of user ids\n",
    "id_list = list(all_ids['id'])\n",
    "id_list = [str(i) for i in id_list]\n",
    "items = [\"False\", \"None\", \"nan\"]\n",
    "id_list = filter(lambda x: x not in items, id_list)\n",
    "final_id_list = [int(i) for i in id_list]"
   ]
  },
  {
   "cell_type": "code",
   "execution_count": 14,
   "metadata": {
    "collapsed": true
   },
   "outputs": [],
   "source": [
    "# Use reference: https://gist.github.com/yanofsky/5436496#file-tweet_dumper-py\n",
    "\n",
    "def get_all_tweets(twitter_id):\n",
    "    all_tweets = []\n",
    "    tweets = api.user_timeline(user_id = twitter_id,count = 200)\n",
    "    all_tweets.extend(tweets)\n",
    "    oldest = all_tweets[-1].id - 1\n",
    "    while len(tweets) > 0:\n",
    "        tweets = api.user_timeline(user_id = twitter_id,count = 200, max_id = oldest)\n",
    "        all_tweets.extend(tweets)\n",
    "        oldest = all_tweets[-1].id - 1\n",
    "    outtweets = [[tweet.id_str, tweet.created_at, tweet.source, tweet.favorite_count, tweet.retweet_count, tweet.text.encode(\"utf-8\")] for tweet in all_tweets]\n",
    "    tweets = [tweets + [twitter_id] for tweets in outtweets]\n",
    "    with open('%s_tweets.csv' % twitter_id, 'wb') as f:\n",
    "        writer = csv.writer(f)\n",
    "        writer.writerow([\"id\",\"created_at\", \"source\", \"favorite_count\", \"retweet_count\", \"tweet_text\", \"id\"])\n",
    "        writer.writerows(tweets)\n",
    "    \n",
    "    pass"
   ]
  },
  {
   "cell_type": "code",
   "execution_count": 19,
   "metadata": {
    "collapsed": false
   },
   "outputs": [],
   "source": [
    "for i in final_id_list:\n",
    "    try:\n",
    "        get_all_tweets(i)\n",
    "    except tweepy.TweepError as error:\n",
    "        pass"
   ]
  },
  {
   "cell_type": "code",
   "execution_count": null,
   "metadata": {
    "collapsed": true
   },
   "outputs": [],
   "source": []
  }
 ],
 "metadata": {
  "kernelspec": {
   "display_name": "Python 2",
   "language": "python",
   "name": "python2"
  },
  "language_info": {
   "codemirror_mode": {
    "name": "ipython",
    "version": 2
   },
   "file_extension": ".py",
   "mimetype": "text/x-python",
   "name": "python",
   "nbconvert_exporter": "python",
   "pygments_lexer": "ipython2",
   "version": "2.7.13"
  }
 },
 "nbformat": 4,
 "nbformat_minor": 2
}
