{
 "cells": [
  {
   "cell_type": "code",
   "execution_count": 20,
   "metadata": {
    "collapsed": false
   },
   "outputs": [],
   "source": [
    "import pandas as pd\n",
    "import numpy as np\n",
    "import tweepy\n",
    "import json\n",
    "import requests\n",
    "import requests_cache\n",
    "import time\n",
    "import sqlite3 as sql\n",
    "requests_cache.install_cache('demo_cache')"
   ]
  },
  {
   "cell_type": "code",
   "execution_count": 3,
   "metadata": {
    "collapsed": true
   },
   "outputs": [],
   "source": [
    "# Twitter API setup\n",
    "  \n",
    "CONSUMER_KEY = 'QifrSmYAQ2mjIf8kiPoL2kI4v'\n",
    "CONSUMER_SECRET = 'qHXPmXDd4Gw2cqZ5zKmDpU6drKEHTF396pj9qyoUYWDcLsFOlm'\n",
    "ACCESS_TOKEN = '3379234805-hUmhUJa0oV9V1mnKDuB6bitJ1QTEjdq2c9zE0RA'\n",
    "ACCESS_TOKEN_SECRET = 'cQiqDWDuoLj8SH68d6JuPhthToImk3WzmcQ3pbyxYfYK1'\n",
    "\n",
    "auth = tweepy.OAuthHandler(CONSUMER_KEY, CONSUMER_SECRET)\n",
    "auth.set_access_token(ACCESS_TOKEN, ACCESS_TOKEN_SECRET)\n",
    "\n",
    "api = tweepy.API(auth, wait_on_rate_limit=True) # wait_on_rate_limit=True: not return the 402 error code from twitter \n",
    "                                                # and wait the needed time to resume the task"
   ]
  },
  {
   "cell_type": "code",
   "execution_count": 34,
   "metadata": {
    "collapsed": false
   },
   "outputs": [],
   "source": [
    "# Data Extraction\n",
    "MAX_TWEETS = 1000\n",
    "search_text = \"#BuildTheWall\"\n",
    "search_result = tweepy.Cursor(api.search, q=search_text).items(MAX_TWEETS)\n",
    "tweets_data = []  # initialise an empty list which will contain the returned results as json objects\n",
    "                  # each list element will be basically a json format of a tweet with all the information\n",
    "for tweet in search_result:\n",
    "    tweets_data.append(json.loads(json.dumps(tweet._json)))"
   ]
  },
  {
   "cell_type": "code",
   "execution_count": 39,
   "metadata": {
    "collapsed": false
   },
   "outputs": [
    {
     "data": {
      "text/plain": [
       "{u'contributors': None,\n",
       " u'coordinates': None,\n",
       " u'created_at': u'Thu Apr 20 03:20:23 +0000 2017',\n",
       " u'entities': {u'hashtags': [{u'indices': [6, 19], u'text': u'BuildTheWall'},\n",
       "   {u'indices': [23, 41], u'text': u'nationalgarlicday'},\n",
       "   {u'indices': [43, 52], u'text': u'BuyABook'},\n",
       "   {u'indices': [59, 77], u'text': u'mothersdaypresent'}],\n",
       "  u'symbols': [],\n",
       "  u'urls': [{u'display_url': u'twitter.com/i/web/status/8\\u2026',\n",
       "    u'expanded_url': u'https://twitter.com/i/web/status/854897508694216704',\n",
       "    u'indices': [111, 134],\n",
       "    u'url': u'https://t.co/rI3qsg0sru'}],\n",
       "  u'user_mentions': [{u'id': 20793816,\n",
       "    u'id_str': u'20793816',\n",
       "    u'indices': [81, 88],\n",
       "    u'name': u'Amazon',\n",
       "    u'screen_name': u'amazon'},\n",
       "   {u'id': 84249568,\n",
       "    u'id_str': u'84249568',\n",
       "    u'indices': [95, 108],\n",
       "    u'name': u'Kindle',\n",
       "    u'screen_name': u'AmazonKindle'}]},\n",
       " u'favorite_count': 0,\n",
       " u'favorited': False,\n",
       " u'geo': None,\n",
       " u'id': 854897508694216704,\n",
       " u'id_str': u'854897508694216704',\n",
       " u'in_reply_to_screen_name': None,\n",
       " u'in_reply_to_status_id': None,\n",
       " u'in_reply_to_status_id_str': None,\n",
       " u'in_reply_to_user_id': None,\n",
       " u'in_reply_to_user_id_str': None,\n",
       " u'is_quote_status': False,\n",
       " u'lang': u'en',\n",
       " u'metadata': {u'iso_language_code': u'en', u'result_type': u'recent'},\n",
       " u'place': None,\n",
       " u'possibly_sensitive': False,\n",
       " u'retweet_count': 0,\n",
       " u'retweeted': False,\n",
       " u'source': u'<a href=\"http://twitter.com\" rel=\"nofollow\">Twitter Web Client</a>',\n",
       " u'text': u\"Don't #BuildTheWall on #nationalgarlicday. #BuyABook for a #mothersdaypresent on @amazon &amp; @AmazonKindle.\\u2026 https://t.co/rI3qsg0sru\",\n",
       " u'truncated': True,\n",
       " u'user': {u'contributors_enabled': False,\n",
       "  u'created_at': u'Fri Mar 24 02:49:58 +0000 2017',\n",
       "  u'default_profile': False,\n",
       "  u'default_profile_image': False,\n",
       "  u'description': u'Official Twitter of the DayBlack comic by @KEEFCROSS',\n",
       "  u'entities': {u'description': {u'urls': []},\n",
       "   u'url': {u'urls': [{u'display_url': u'keefcross.com',\n",
       "      u'expanded_url': u'http://www.keefcross.com',\n",
       "      u'indices': [0, 23],\n",
       "      u'url': u'https://t.co/irdBNnlw0N'}]}},\n",
       "  u'favourites_count': 32,\n",
       "  u'follow_request_sent': False,\n",
       "  u'followers_count': 15,\n",
       "  u'following': False,\n",
       "  u'friends_count': 33,\n",
       "  u'geo_enabled': False,\n",
       "  u'has_extended_profile': False,\n",
       "  u'id': 845105379763638272,\n",
       "  u'id_str': u'845105379763638272',\n",
       "  u'is_translation_enabled': False,\n",
       "  u'is_translator': False,\n",
       "  u'lang': u'en',\n",
       "  u'listed_count': 0,\n",
       "  u'location': u'Atlanta, GA',\n",
       "  u'name': u'DayBlack Official',\n",
       "  u'notifications': False,\n",
       "  u'profile_background_color': u'000000',\n",
       "  u'profile_background_image_url': u'http://abs.twimg.com/images/themes/theme1/bg.png',\n",
       "  u'profile_background_image_url_https': u'https://abs.twimg.com/images/themes/theme1/bg.png',\n",
       "  u'profile_background_tile': False,\n",
       "  u'profile_banner_url': u'https://pbs.twimg.com/profile_banners/845105379763638272/1490559536',\n",
       "  u'profile_image_url': u'http://pbs.twimg.com/profile_images/851124012306640898/ohZtQKTO_normal.jpg',\n",
       "  u'profile_image_url_https': u'https://pbs.twimg.com/profile_images/851124012306640898/ohZtQKTO_normal.jpg',\n",
       "  u'profile_link_color': u'FF0606',\n",
       "  u'profile_sidebar_border_color': u'000000',\n",
       "  u'profile_sidebar_fill_color': u'000000',\n",
       "  u'profile_text_color': u'000000',\n",
       "  u'profile_use_background_image': False,\n",
       "  u'protected': False,\n",
       "  u'screen_name': u'DayBlackComic',\n",
       "  u'statuses_count': 66,\n",
       "  u'time_zone': None,\n",
       "  u'translator_type': u'none',\n",
       "  u'url': u'https://t.co/irdBNnlw0N',\n",
       "  u'utc_offset': None,\n",
       "  u'verified': False}}"
      ]
     },
     "execution_count": 39,
     "metadata": {},
     "output_type": "execute_result"
    }
   ],
   "source": [
    "tweets_data[3]"
   ]
  },
  {
   "cell_type": "code",
   "execution_count": null,
   "metadata": {
    "collapsed": true
   },
   "outputs": [],
   "source": []
  }
 ],
 "metadata": {
  "anaconda-cloud": {},
  "kernelspec": {
   "display_name": "Python [conda root]",
   "language": "python",
   "name": "conda-root-py"
  },
  "language_info": {
   "codemirror_mode": {
    "name": "ipython",
    "version": 2
   },
   "file_extension": ".py",
   "mimetype": "text/x-python",
   "name": "python",
   "nbconvert_exporter": "python",
   "pygments_lexer": "ipython2",
   "version": "2.7.12"
  }
 },
 "nbformat": 4,
 "nbformat_minor": 1
}
