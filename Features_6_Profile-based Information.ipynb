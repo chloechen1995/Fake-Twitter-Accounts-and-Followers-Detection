{
 "cells": [
  {
   "cell_type": "markdown",
   "metadata": {},
   "source": [
    "## Profile-based Information\n",
    "<li>Number of followers</li>\n",
    "<li>Number of tweets</li>\n",
    "<li>Fo-fo ratio: the ratio of the number of an account's following to its followers</li>\n",
    "<li>Age of the user account [2]</li>\n",
    "<li>Reputaion score</li>\n",
    "<li>Following choice: $F=\\frac{T_n}{D_n}$    \n",
    "where $T_n$ is the total number of names among the account's followings and $D_n$ is the number of distinct first names. This ratio attempts to detect whether an account likely used a list of names to pick its folloings or not.[4]</li>"
   ]
  },
  {
   "cell_type": "code",
   "execution_count": 103,
   "metadata": {
    "collapsed": false
   },
   "outputs": [],
   "source": [
    "import tweepy\n",
    "import glob\n",
    "import pandas as pd\n",
    "import numpy as np"
   ]
  },
  {
   "cell_type": "code",
   "execution_count": 104,
   "metadata": {
    "collapsed": true
   },
   "outputs": [],
   "source": [
    "# Twitter API setup\n",
    "CONSUMER_KEY = 'QifrSmYAQ2mjIf8kiPoL2kI4v'\n",
    "CONSUMER_SECRET = 'qHXPmXDd4Gw2cqZ5zKmDpU6drKEHTF396pj9qyoUYWDcLsFOlm'\n",
    "ACCESS_TOKEN = '3379234805-hUmhUJa0oV9V1mnKDuB6bitJ1QTEjdq2c9zE0RA'\n",
    "ACCESS_TOKEN_SECRET = 'cQiqDWDuoLj8SH68d6JuPhthToImk3WzmcQ3pbyxYfYK1'\n",
    "\n",
    "auth = tweepy.OAuthHandler(CONSUMER_KEY, CONSUMER_SECRET)\n",
    "auth.set_access_token(ACCESS_TOKEN, ACCESS_TOKEN_SECRET)\n",
    "\n",
    "api = tweepy.API(auth)"
   ]
  },
  {
   "cell_type": "code",
   "execution_count": 105,
   "metadata": {
    "collapsed": false
   },
   "outputs": [],
   "source": [
    "# ---------- Read In Data\n",
    "# load in genuine accounts data\n",
    "genuine = pd.read_csv(open('/Users/Aaron/Desktop/STA160/Dataset/User dataset/genuine account.csv', 'rU'), \n",
    "                      encoding = 'utf-8')\n",
    "\n",
    "# load in fake accounts data\n",
    "path =r'/Users/Aaron/Desktop/STA160/Dataset/User dataset/fake data/'\n",
    "allFiles = glob.glob(path + \"/*.csv\")\n",
    "fake = pd.DataFrame()\n",
    "list_ = []\n",
    "for file_ in allFiles:\n",
    "    df = pd.read_csv(open(file_, 'rU'), encoding = 'utf-8')\n",
    "    list_.append(df)\n",
    "fake = pd.concat(list_)\n"
   ]
  },
  {
   "cell_type": "markdown",
   "metadata": {},
   "source": [
    "### Followers"
   ]
  },
  {
   "cell_type": "code",
   "execution_count": 110,
   "metadata": {
    "collapsed": false
   },
   "outputs": [],
   "source": [
    "final_data = pd.read_csv('final data.csv', index_col = 0)"
   ]
  },
  {
   "cell_type": "code",
   "execution_count": 111,
   "metadata": {
    "collapsed": false
   },
   "outputs": [],
   "source": [
    "total_followers = final_data['followers_count']"
   ]
  },
  {
   "cell_type": "markdown",
   "metadata": {},
   "source": [
    "### Number of tweets"
   ]
  },
  {
   "cell_type": "code",
   "execution_count": 112,
   "metadata": {
    "collapsed": false
   },
   "outputs": [],
   "source": [
    "total_tweets = final_data['statuses_count']"
   ]
  },
  {
   "cell_type": "markdown",
   "metadata": {},
   "source": [
    "### FF ratio"
   ]
  },
  {
   "cell_type": "code",
   "execution_count": 113,
   "metadata": {
    "collapsed": false
   },
   "outputs": [],
   "source": [
    "ff_ratio = final_data['friends_count']/final_data['followers_count']"
   ]
  },
  {
   "cell_type": "markdown",
   "metadata": {},
   "source": [
    "### Age"
   ]
  },
  {
   "cell_type": "code",
   "execution_count": 115,
   "metadata": {
    "collapsed": false
   },
   "outputs": [],
   "source": [
    "final_data = final_data.astype(str)\n",
    "created_time = final_data['created_at']\n",
    "dates = [i[0]for i in created_time.str.rsplit()]"
   ]
  },
  {
   "cell_type": "code",
   "execution_count": 116,
   "metadata": {
    "collapsed": true
   },
   "outputs": [],
   "source": [
    "def days_between(d1, d2):\n",
    "    try:\n",
    "        d1 = datetime.strptime(d1, '%Y-%m-%d')\n",
    "        d2 = datetime.strptime(d2, '%Y-%m-%d')\n",
    "        \n",
    "        return abs((d2 - d1).days)\n",
    "        \n",
    "    except ValueError:\n",
    "        return np.NAN\n"
   ]
  },
  {
   "cell_type": "code",
   "execution_count": 117,
   "metadata": {
    "collapsed": false
   },
   "outputs": [],
   "source": [
    "age =  [days_between(i, '2017-5-17') for i in dates]\n",
    "age = pd.Series(age)"
   ]
  },
  {
   "cell_type": "markdown",
   "metadata": {},
   "source": [
    "### Following choice"
   ]
  },
  {
   "cell_type": "markdown",
   "metadata": {},
   "source": [
    "After having trained the classiﬁer, it was clear that the F feature is not useful to detect spammers on Twitter, since both spammers and legitimate proﬁles in the training set had very similar values for this parameter. This suggests that Twitter spam bots do not pick their victims based on their name. Therefore, we removed the F feature from the Twitter spam classiﬁer."
   ]
  },
  {
   "cell_type": "markdown",
   "metadata": {},
   "source": [
    "### Features"
   ]
  },
  {
   "cell_type": "code",
   "execution_count": 119,
   "metadata": {
    "collapsed": false
   },
   "outputs": [],
   "source": [
    "features = pd.concat([total_followers, total_tweets, ff_ratio, age], axis = 1, keys = ['followers_count', 'statuses_count', 'FF_ratio', 'Age'])"
   ]
  },
  {
   "cell_type": "code",
   "execution_count": 120,
   "metadata": {
    "collapsed": false
   },
   "outputs": [
    {
     "data": {
      "text/plain": [
       "0.6382894476341319"
      ]
     },
     "execution_count": 120,
     "metadata": {},
     "output_type": "execute_result"
    }
   ],
   "source": [
    "list(genuine['lang']).count('en')/float(len(genuine['lang']))"
   ]
  },
  {
   "cell_type": "code",
   "execution_count": 15,
   "metadata": {
    "collapsed": false
   },
   "outputs": [
    {
     "data": {
      "text/plain": [
       "0.8696383515559294"
      ]
     },
     "execution_count": 15,
     "metadata": {},
     "output_type": "execute_result"
    }
   ],
   "source": [
    "list(fake['lang']).count('en')/float(len(fake['lang']))"
   ]
  },
  {
   "cell_type": "code",
   "execution_count": null,
   "metadata": {
    "collapsed": true
   },
   "outputs": [],
   "source": []
  }
 ],
 "metadata": {
  "anaconda-cloud": {},
  "kernelspec": {
   "display_name": "Python [conda root]",
   "language": "python",
   "name": "conda-root-py"
  },
  "language_info": {
   "codemirror_mode": {
    "name": "ipython",
    "version": 2
   },
   "file_extension": ".py",
   "mimetype": "text/x-python",
   "name": "python",
   "nbconvert_exporter": "python",
   "pygments_lexer": "ipython2",
   "version": "2.7.12"
  }
 },
 "nbformat": 4,
 "nbformat_minor": 2
}
