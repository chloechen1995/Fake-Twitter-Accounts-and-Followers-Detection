{
 "cells": [
  {
   "cell_type": "code",
   "execution_count": 104,
   "metadata": {
    "collapsed": false
   },
   "outputs": [],
   "source": [
    "import pandas as pd\n",
    "from __future__ import division\n",
    "from compiler.ast import flatten\n",
    "import re"
   ]
  },
  {
   "cell_type": "markdown",
   "metadata": {},
   "source": [
    "<li>The percentage of Tweets containing URLs (|URLs|/|20 recent tweets|)</li>"
   ]
  },
  {
   "cell_type": "code",
   "execution_count": 105,
   "metadata": {
    "collapsed": false
   },
   "outputs": [],
   "source": [
    "def url_ratio(user_id):\n",
    "    \"\"\"\n",
    "    calculate the percentage of 20 recent Tweets containing URLs\n",
    "    \n",
    "    Argument: tweets_df\n",
    "    \n",
    "    Return: tweets_url_ratio\n",
    "    \"\"\"\n",
    "    user_tweets = pd.read_csv(str(user_id) + \"_tweets.csv\")\n",
    "    top_20 = user_tweets[:20]\n",
    "    tweets_url_ratio = sum(top_20['tweet_text'].str.contains(\"https:\") == True)/len(user_tweets['tweet_text'])\n",
    "    return str('{0:.4f}'.format(100 * tweets_url_ratio)) + '%'"
   ]
  },
  {
   "cell_type": "code",
   "execution_count": 106,
   "metadata": {
    "collapsed": false
   },
   "outputs": [
    {
     "data": {
      "text/plain": [
       "'0.2179%'"
      ]
     },
     "execution_count": 106,
     "metadata": {},
     "output_type": "execute_result"
    }
   ],
   "source": [
    "url_ratio(11630862)"
   ]
  },
  {
   "cell_type": "markdown",
   "metadata": {},
   "source": [
    "<li>The ratio of the number of unique URLs (|unique URLs|/|20 recent tweets|) </li>"
   ]
  },
  {
   "cell_type": "code",
   "execution_count": 119,
   "metadata": {
    "collapsed": false
   },
   "outputs": [],
   "source": [
    "def url_unique_ratio(user_id):\n",
    "    \"\"\"\n",
    "    calculate the ratio of the number of unique URLs in the 20 recent tweets\n",
    "    \n",
    "    Argument: tweets_df\n",
    "    \n",
    "    Return: url_ratio\n",
    "    \"\"\"\n",
    "    user_tweets = pd.read_csv(str(user_id) + \"_tweets.csv\")\n",
    "    top_20 = user_tweets[:20]\n",
    "    # find all the urls using regular expression\n",
    "    urls = [re.findall('http[s]?://(?:[a-zA-Z]|[0-9]|[$-_@.&+]|[!*\\(\\),]|(?:%[0-9a-fA-F][0-9a-fA-F]))+', tweets) for tweets in top_20['tweet_text']]\n",
    "    # flatten a list of lists\n",
    "    urls_flatten = flatten(urls)\n",
    "    # get the first two parts of the url\n",
    "    urls_split = [u.split('/')[0:3] for u in urls_flatten]\n",
    "    \n",
    "    urls_unique = [list(u) for u in set(tuple(u) for u in urls_split)]\n",
    "    url_unique= len(urls_unique)\n",
    "    tweet_total = len(user_tweets['tweet_text'])\n",
    "    url_ratio = url_unique/tweet_total\n",
    "    return str('{0:.4f}'.format(100 * url_ratio)) + '%'\n"
   ]
  },
  {
   "cell_type": "code",
   "execution_count": 120,
   "metadata": {
    "collapsed": false
   },
   "outputs": [
    {
     "data": {
      "text/plain": [
       "'0.0311%'"
      ]
     },
     "execution_count": 120,
     "metadata": {},
     "output_type": "execute_result"
    }
   ],
   "source": [
    "url_unique_ratio(11630862)"
   ]
  },
  {
   "cell_type": "markdown",
   "metadata": {},
   "source": [
    "<li> hashtag ratio (|hashtags|/|20 recent tweets|) </li>"
   ]
  },
  {
   "cell_type": "code",
   "execution_count": 109,
   "metadata": {
    "collapsed": true
   },
   "outputs": [],
   "source": [
    "def hashtag_ratio(user_id):\n",
    "    \"\"\"\n",
    "    calculate the hashtag ratio\n",
    "    \n",
    "    Argument: tweets_df\n",
    "    \n",
    "    Return: hashtag ratio\n",
    "    \"\"\"\n",
    "    user_tweets = pd.read_csv(str(user_id) + \"_tweets.csv\")\n",
    "    top_20 = user_tweets[:20]\n",
    "    hashtag_ratio = 100 *(sum(top_20['tweet_text'].str.contains(\"#\"))/len(top_20['tweet_text']))\n",
    "    return str('{0:.2f}'.format(hashtag_ratio)) + '%'"
   ]
  },
  {
   "cell_type": "code",
   "execution_count": 110,
   "metadata": {
    "collapsed": false
   },
   "outputs": [
    {
     "data": {
      "text/plain": [
       "'15.00%'"
      ]
     },
     "execution_count": 110,
     "metadata": {},
     "output_type": "execute_result"
    }
   ],
   "source": [
    "hashtag_ratio(11630862)"
   ]
  },
  {
   "cell_type": "markdown",
   "metadata": {},
   "source": [
    "<li> The ratio of the number of @usernames (|usernames|/|20 recent tweets|) [3] </li>"
   ]
  },
  {
   "cell_type": "code",
   "execution_count": 111,
   "metadata": {
    "collapsed": true
   },
   "outputs": [],
   "source": [
    "def username_ratio(user_id):\n",
    "    \"\"\"\n",
    "    calculate the username ratio\n",
    "    \n",
    "    Argument: tweets_df\n",
    "    \n",
    "    Return: username ratio\n",
    "    \"\"\"\n",
    "    user_tweets = pd.read_csv(str(user_id) + \"_tweets.csv\")\n",
    "    top_20 = user_tweets[:20]\n",
    "    username_ratio = 100 *(sum(top_20['tweet_text'].str.contains(\"@\"))/len(top_20['tweet_text']))\n",
    "    return str('{0:.2f}'.format(username_ratio)) + '%'"
   ]
  },
  {
   "cell_type": "code",
   "execution_count": 112,
   "metadata": {
    "collapsed": false
   },
   "outputs": [
    {
     "data": {
      "text/plain": [
       "'80.00%'"
      ]
     },
     "execution_count": 112,
     "metadata": {},
     "output_type": "execute_result"
    }
   ],
   "source": [
    "username_ratio(11630862)"
   ]
  },
  {
   "cell_type": "markdown",
   "metadata": {},
   "source": [
    "<li> The ratio of the number of unique @usernames (|unique usernames|/|20 recent tweets|) [3] </li>"
   ]
  },
  {
   "cell_type": "code",
   "execution_count": 121,
   "metadata": {
    "collapsed": true
   },
   "outputs": [],
   "source": [
    "def username_unique_ratio(user_id):\n",
    "    \"\"\"\n",
    "    calculate the ratio of the number of unique @usernames\n",
    "    \n",
    "    Argument: tweets_df\n",
    "    \n",
    "    Return: username_unique_ratio\n",
    "    \"\"\"\n",
    "    user_tweets = pd.read_csv(str(user_id) + \"_tweets.csv\")\n",
    "    top_20 = user_tweets[:20]\n",
    "    username = [re.findall('@([A-Za-z0-9_]+)', tweets) for tweets in top_20['tweet_text']]\n",
    "    # flatten a list of lists\n",
    "    username_flatten = flatten(username)\n",
    "    username_unique = set(username_flatten)\n",
    "    user_unique= len(username_unique)\n",
    "    # total number of users that were being @, not all the tweets\n",
    "    tweet_total = len(user_tweets['tweet_text'])\n",
    "    user_ratio = user_unique/tweet_total\n",
    "    return str('{0:.4f}'.format(100 * user_ratio)) + '%'"
   ]
  },
  {
   "cell_type": "code",
   "execution_count": 122,
   "metadata": {
    "collapsed": false
   },
   "outputs": [
    {
     "data": {
      "text/plain": [
       "'0.3736%'"
      ]
     },
     "execution_count": 122,
     "metadata": {},
     "output_type": "execute_result"
    }
   ],
   "source": [
    "username_unique_ratio(11630862)"
   ]
  },
  {
   "cell_type": "code",
   "execution_count": null,
   "metadata": {
    "collapsed": true
   },
   "outputs": [],
   "source": []
  }
 ],
 "metadata": {
  "kernelspec": {
   "display_name": "Python 2",
   "language": "python",
   "name": "python2"
  },
  "language_info": {
   "codemirror_mode": {
    "name": "ipython",
    "version": 2
   },
   "file_extension": ".py",
   "mimetype": "text/x-python",
   "name": "python",
   "nbconvert_exporter": "python",
   "pygments_lexer": "ipython2",
   "version": "2.7.13"
  }
 },
 "nbformat": 4,
 "nbformat_minor": 2
}
