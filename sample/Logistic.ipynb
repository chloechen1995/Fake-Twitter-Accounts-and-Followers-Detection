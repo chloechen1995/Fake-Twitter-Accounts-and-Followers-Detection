{
 "cells": [
  {
   "cell_type": "markdown",
   "metadata": {},
   "source": [
    "## Introduction to models"
   ]
  },
  {
   "cell_type": "markdown",
   "metadata": {},
   "source": [
    "L1 regularized logistic regression solves the following optimization problem:"
   ]
  },
  {
   "cell_type": "markdown",
   "metadata": {},
   "source": [
    "Logistic regression belongs to the family of classifiers known as the exponential or log-linear classifiers. It works by extracting some set of weighted features from the input, taking logs, and combining them linearly (meaning that each feature is multiplied by a weight and then added up). Technically, logistic regression refers to a classifier that classifies an observation into one of two classes, and multinomial logistic regression is used when classifying into more than two classes, although informally we sometimes use the shorthand logistic regression even when we are talking about multiple classes.\n",
    "\n",
    "If a feature is perfectly predictive of the outcome because it happens to only occur in one class, it will be assigned a very high weight. The weights for features will attempt to perfectly fit details of the training set, in fact too perfectly, modeling noisy factors that just accidentally correlate with the class. This problem is called **overfitting**.\n",
    "\n",
    "Therefore, there are two common regularization terms called **L1** and **L2** to avoid overfitting:\n",
    "\n",
    "**L1** regularization is a linear function of the weight values, named after the L1 norm |w|, the sum of the absolute values of the weights. <br>\n",
    "**L2** regularization is called ridge regression which is sum of the square of the weights ||w||.\n",
    "\n",
    "#### The LogisticRegression in sklearn\n",
    "\n",
    "Logistic regression is also known in the literature as logit regression, maximum-entropy classification (MaxEnt) or the log-linear classifier. In this model, the probabilities describing the possible outcomes of a single trial are modeled using a [logistic function](https://en.wikipedia.org/wiki/Logistic_function).\n",
    "\n",
    "To opimize the problem, we need to minimize the \n",
    "\n",
    "$$\n",
    "f(x) = \\frac 1 {1+e^{-x}}\n",
    "$$\n",
    "\n",
    "L1 regularized logistic regression solves the following optimization problem:\n",
    "$$\n",
    "min\\frac1{2}w^Tw + C \\sum_{i = 1}^n log(exp(-y_{i}(X_{i}^Tw + c)) + 1)\n",
    "$$\n",
    "\n",
    "L2 penalized logistic regression minimizes the following cost function:\n",
    "\n",
    "$$\n",
    "min\\frac1{2}||w||_{1} + C \\sum_{i = 1}^n log(exp(-y_{i}(X_{i}^Tw + c)) + 1)\n",
    "$$"
   ]
  },
  {
   "cell_type": "markdown",
   "metadata": {},
   "source": [
    "Reference : https://web.stanford.edu/~jurafsky/slp3/7.pdf"
   ]
  },
  {
   "cell_type": "markdown",
   "metadata": {},
   "source": [
    "## Building model"
   ]
  },
  {
   "cell_type": "code",
   "execution_count": 77,
   "metadata": {
    "collapsed": true
   },
   "outputs": [],
   "source": [
    "import pandas as pd\n",
    "import numpy as np\n",
    "from sklearn.linear_model import LogisticRegression\n",
    "from sklearn.metrics import accuracy_score\n",
    "import matplotlib.pyplot as plt\n",
    "import itertools\n",
    "from sklearn.model_selection import GridSearchCV, KFold, train_test_split\n",
    "import itertools\n",
    "import matplotlib.pyplot as plt\n",
    "%matplotlib inline\n",
    "from sklearn.metrics import confusion_matrix"
   ]
  },
  {
   "cell_type": "code",
   "execution_count": 78,
   "metadata": {
    "collapsed": false
   },
   "outputs": [],
   "source": [
    "data = pd.read_csv('final_df_sample_2.csv', index_col = 0)"
   ]
  },
  {
   "cell_type": "code",
   "execution_count": 79,
   "metadata": {
    "collapsed": false
   },
   "outputs": [],
   "source": [
    "# Get the features and class\n",
    "feature_names = data.columns[1:-2]\n",
    "class_name = data.columns[-1]"
   ]
  },
  {
   "cell_type": "code",
   "execution_count": 80,
   "metadata": {
    "collapsed": true
   },
   "outputs": [],
   "source": [
    "X = np.array(data[feature_names])\n",
    "y = np.array(data['label_model'])"
   ]
  },
  {
   "cell_type": "code",
   "execution_count": 81,
   "metadata": {
    "collapsed": false
   },
   "outputs": [],
   "source": [
    "# Split the data\n",
    "X_train, X_test, y_train, y_test = train_test_split(X, y, test_size = 0.2, random_state = 0)"
   ]
  },
  {
   "cell_type": "code",
   "execution_count": 82,
   "metadata": {
    "collapsed": true
   },
   "outputs": [],
   "source": [
    "def plot_confusion_matrix(cm, classes, normalize = False, title = \"Confusion matrix\", cmap = plt.cm.Blues):\n",
    "    \"\"\"\n",
    "    This function prints and plots the confusion matrix.\n",
    "    Normalization can be applied by setting normalize = True.\n",
    "    Code from http://scikit-learn.org/stable/auto_examples/model_selection/plot_confusion_matrix.html\n",
    "    \"\"\"\n",
    "    plt.figure(dpi = 100)\n",
    "    plt.imshow(cm, interpolation = 'nearest', cmap = cmap)\n",
    "    plt.title(title)\n",
    "    plt.colorbar()\n",
    "    tick_marks = np.arange(len(classes))\n",
    "    plt.xticks(tick_marks, classes)\n",
    "    plt.yticks(tick_marks, classes)\n",
    "\n",
    "    if normalize:\n",
    "        cm = cm.astype(\"float\")/cm.sum(axis = 1)[:, np.newaxis]\n",
    "        print(\"Normalized confusion matrix\")\n",
    "    else:\n",
    "        print(\"Confusion matrix, without normalization\")\n",
    "\n",
    "    #print(cm)\n",
    "\n",
    "    thresh = cm.max() / 2.\n",
    "    for i, j in itertools.product(range(cm.shape[0]), range(cm.shape[1])):\n",
    "        plt.text(j, i, cm[i, j],\n",
    "                 horizontalalignment = \"center\",\n",
    "                 color = \"white\" if cm[i, j] > thresh else \"black\")\n",
    "\n",
    "    plt.tight_layout()\n",
    "    plt.ylabel('True label')\n",
    "    plt.xlabel('Predicted label')"
   ]
  },
  {
   "cell_type": "markdown",
   "metadata": {},
   "source": [
    "### Tuning parameters for Logistic Classification"
   ]
  },
  {
   "cell_type": "code",
   "execution_count": 83,
   "metadata": {
    "collapsed": false
   },
   "outputs": [
    {
     "name": "stdout",
     "output_type": "stream",
     "text": [
      "The best parameters are {'penalty': 'l1', 'C': 100.0, 'class_weight': {'Fake': 3}} with a score of 0.96\n"
     ]
    }
   ],
   "source": [
    "C_range = np.logspace(-3, 3, 7)  # Ridge penalty parameter.\n",
    "cv = KFold(n_splits = 5, random_state = 9) # 5-fold cross validation.\n",
    "class_weight = [{'Fake': 3}]\n",
    "parameters = dict(penalty = (\"l1\", \"l2\"), C = C_range, class_weight = class_weight)\n",
    "find_best_est = GridSearchCV(LogisticRegression(), param_grid = parameters, cv = cv, n_jobs = 4)\n",
    "find_best_est.fit(X_train, y_train)\n",
    "\n",
    "print(\"The best parameters are %s with a score of %0.2f\" % (find_best_est.best_params_, \n",
    "                                                                find_best_est.best_score_))\n"
   ]
  },
  {
   "cell_type": "code",
   "execution_count": 84,
   "metadata": {
    "collapsed": true
   },
   "outputs": [],
   "source": [
    "def report(results, n_top=3):\n",
    "    for i in range(1, n_top + 1):\n",
    "        candidates = np.flatnonzero(results['rank_test_score'] == i)\n",
    "        for candidate in candidates:\n",
    "            print(\"Model with rank: {0}\".format(i))\n",
    "            print(\"Mean validation score: {0:.3f} (std: {1:.3f})\".format(\n",
    "                  results['mean_test_score'][candidate],\n",
    "                  results['std_test_score'][candidate]))\n",
    "            print(\"Parameters: {0}\".format(results['params'][candidate]))\n",
    "            print(\"\")"
   ]
  },
  {
   "cell_type": "code",
   "execution_count": 85,
   "metadata": {
    "collapsed": false
   },
   "outputs": [
    {
     "name": "stdout",
     "output_type": "stream",
     "text": [
      "Model with rank: 1\n",
      "Mean validation score: 0.960 (std: 0.003)\n",
      "Parameters: {'penalty': 'l1', 'C': 100.0, 'class_weight': {'Fake': 3}}\n",
      "\n",
      "Model with rank: 2\n",
      "Mean validation score: 0.959 (std: 0.004)\n",
      "Parameters: {'penalty': 'l1', 'C': 1000.0, 'class_weight': {'Fake': 3}}\n",
      "\n",
      "Model with rank: 3\n",
      "Mean validation score: 0.959 (std: 0.004)\n",
      "Parameters: {'penalty': 'l1', 'C': 1.0, 'class_weight': {'Fake': 3}}\n",
      "\n"
     ]
    }
   ],
   "source": [
    "report(find_best_est.cv_results_)"
   ]
  },
  {
   "cell_type": "code",
   "execution_count": 86,
   "metadata": {
    "collapsed": false
   },
   "outputs": [
    {
     "name": "stdout",
     "output_type": "stream",
     "text": [
      "the accuracy of logistic is 0.970769230769\n"
     ]
    }
   ],
   "source": [
    "log_pred = find_best_est.predict(X_test)\n",
    "print 'the accuracy of logistic is {}'.format(accuracy_score(y_test, log_pred))"
   ]
  },
  {
   "cell_type": "code",
   "execution_count": 87,
   "metadata": {
    "collapsed": false
   },
   "outputs": [
    {
     "name": "stdout",
     "output_type": "stream",
     "text": [
      "Normalized confusion matrix\n"
     ]
    },
    {
     "data": {
      "image/png": "[encoded data removed]",
      "text/plain": [
       "<matplotlib.figure.Figure at 0x112b35fd0>"
      ]
     },
     "metadata": {},
     "output_type": "display_data"
    }
   ],
   "source": [
    "with plt.style.context((\"seaborn-white\")):\n",
    "    conf_matrix = confusion_matrix(y_test, log_pred)\n",
    "    plot_confusion_matrix(conf_matrix, classes = ['Fake', 'Genuine'], normalize = True)\n",
    "    plt.savefig('Confusion_df_2.png', bbox_inches='tight')"
   ]
  },
  {
   "cell_type": "markdown",
   "metadata": {
    "collapsed": true
   },
   "source": [
    "As we observe above, although the accuracy of identifying account by using Logistic Classification is around 90.92%, the ratio of identifying fake account given true label is only around 35.52%. This is because the accuracy of genuine given the true lbel improve the overall accuracy. The goal of this project is to identify the fake account accurately, even if the overall accuracy would relatively decrease a little bit.\n",
    "\n",
    "Then we start to tune the parameters for logistic classification model by using GridSearchCV in Scikit-learn library to ﬁnd the best parameters. The main parameters to tune are C, penalty and the class_weight. The C is inverse of regularization strength which is parameter of the penalty. Also, the settings of the penalty here are L1 and L2. The most important thing we need to adjust is the class weight for the fake to penalize the error to identifying fake account.\n",
    "\n",
    "After getting the new parameters and fitting the new model, we gain the higher accuracy of identify accounts which is 95.38%. Moreover, the the ratio of predicting fake account correctly is about the 88.16%."
   ]
  },
  {
   "cell_type": "code",
   "execution_count": null,
   "metadata": {
    "collapsed": true
   },
   "outputs": [],
   "source": []
  },
  {
   "cell_type": "markdown",
   "metadata": {
    "collapsed": true
   },
   "source": [
    "\\begin{table}[h!]\n",
    " \\captionof{table}{Best Parameters of Logistic Regression} \\label{tab:title} \n",
    " \\begin{center}\n",
    "  \\begin{tabular}{rrrrrr}\n",
    "   \\hline\n",
    "   & Cost & Penalty & Class weight & Mean validation score & Accuracy score\\\\\n",
    "   \\hline\n",
    "   Sample 1 & 1.0 & l1 & 3 & 0.964 & 0.962\\\\\n",
    "   Sample 2 & 100 & l1 & 3 & 0.960 & 0.971\\\\\n",
    "   Sample 3 & 10  & l1 & 3 & 0.970 & 0.965\\\\\n",
    "   \\hline\n",
    "  \\end{tabular}\n",
    " \\end{center}\n",
    "\\end{table}"
   ]
  }
 ],
 "metadata": {
  "anaconda-cloud": {},
  "kernelspec": {
   "display_name": "Python [conda root]",
   "language": "python",
   "name": "conda-root-py"
  },
  "language_info": {
   "codemirror_mode": {
    "name": "ipython",
    "version": 2
   },
   "file_extension": ".py",
   "mimetype": "text/x-python",
   "name": "python",
   "nbconvert_exporter": "python",
   "pygments_lexer": "ipython2",
   "version": "2.7.12"
  }
 },
 "nbformat": 4,
 "nbformat_minor": 2
}
