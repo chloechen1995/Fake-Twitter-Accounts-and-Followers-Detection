{
 "cells": [
  {
   "cell_type": "code",
   "execution_count": 1,
   "metadata": {
    "collapsed": true
   },
   "outputs": [],
   "source": [
    "import pandas as pd\n",
    "import numpy as np\n",
    "from pandas.parser import CParserError\n",
    "from __future__ import division "
   ]
  },
  {
   "cell_type": "code",
   "execution_count": 2,
   "metadata": {
    "collapsed": false
   },
   "outputs": [],
   "source": [
    "data = pd.read_csv('./Dataset/final data.csv', index_col = 0)"
   ]
  },
  {
   "cell_type": "code",
   "execution_count": 3,
   "metadata": {
    "collapsed": false
   },
   "outputs": [],
   "source": [
    "change_column = ['default_profile', 'default_profile_image', 'geo_enabled', 'profile_use_background_image', 'profile_background_tile',\n",
    "                 'is_translator', 'follow_request_sent', 'protected', 'verified', 'notifications', 'contributors_enabled', 'following']\n",
    "\n",
    "for i in change_column:\n",
    "    change = np.where(data[i] ==  True, 1, 0)\n",
    "    data[i] = change"
   ]
  },
  {
   "cell_type": "markdown",
   "metadata": {},
   "source": [
    "### Extract features"
   ]
  },
  {
   "cell_type": "code",
   "execution_count": 10,
   "metadata": {
    "collapsed": false
   },
   "outputs": [],
   "source": [
    "sample = pd.read_csv('sample_data.csv', index_col = 0)\n",
    "ids = sample['id']"
   ]
  },
  {
   "cell_type": "code",
   "execution_count": 11,
   "metadata": {
    "collapsed": true
   },
   "outputs": [],
   "source": [
    "feature6 = pd.read_csv('feature_6.csv', index_col = 0)"
   ]
  },
  {
   "cell_type": "code",
   "execution_count": 12,
   "metadata": {
    "collapsed": true
   },
   "outputs": [],
   "source": [
    "following_rate = feature6['following'] / feature6['age']"
   ]
  },
  {
   "cell_type": "code",
   "execution_count": 13,
   "metadata": {
    "collapsed": true
   },
   "outputs": [],
   "source": [
    "feature6['following_rate'] = following_rate"
   ]
  },
  {
   "cell_type": "code",
   "execution_count": 14,
   "metadata": {
    "collapsed": false
   },
   "outputs": [],
   "source": [
    "# feature 6 for sample\n",
    "sample_f6 = feature6[feature6.id.isin(ids)]"
   ]
  },
  {
   "cell_type": "code",
   "execution_count": null,
   "metadata": {
    "collapsed": true
   },
   "outputs": [],
   "source": []
  },
  {
   "cell_type": "code",
   "execution_count": 15,
   "metadata": {
    "collapsed": true
   },
   "outputs": [],
   "source": [
    "import os"
   ]
  },
  {
   "cell_type": "code",
   "execution_count": 16,
   "metadata": {
    "collapsed": false
   },
   "outputs": [],
   "source": [
    "os.chdir('/Users/Aaron/Desktop/STA160')"
   ]
  },
  {
   "cell_type": "code",
   "execution_count": 17,
   "metadata": {
    "collapsed": false
   },
   "outputs": [],
   "source": [
    "sample_names = [i + '_tweets.csv' for i in list(ids.astype(str))]"
   ]
  },
  {
   "cell_type": "code",
   "execution_count": 160,
   "metadata": {
    "collapsed": false
   },
   "outputs": [],
   "source": [
    "# get the samples\n",
    "path =r'/Users/Aaron/Desktop/Sample/'\n",
    "\n",
    "sample_tw = []\n",
    "for i in sample_names:\n",
    "    try:\n",
    "        address = path + i\n",
    "        df = pd.read_csv(address, encoding = 'utf-8', index_col = 0)\n",
    "        sample_tw.append(df)\n",
    "    except (CParserError, IOError): \n",
    "        sample_tw.append([])"
   ]
  },
  {
   "cell_type": "code",
   "execution_count": 161,
   "metadata": {
    "collapsed": false
   },
   "outputs": [],
   "source": [
    "def tweet_rate(data):\n",
    "    #dates = [i.rsplit()[0] for i in data['created_at']]\n",
    "    dates = []\n",
    "    \n",
    "    try:\n",
    "        for i in data['Created_At']:\n",
    "            try:\n",
    "                dates.append(i.rsplit()[0])\n",
    "            except AttributeError:\n",
    "                pass\n",
    "\n",
    "        try:\n",
    "            total_dates = len(set(dates))\n",
    "            tweet_rate = len(dates)/total_dates\n",
    "        \n",
    "            return tweet_rate\n",
    "        except ZeroDivisionError:\n",
    "            return 'None'\n",
    "    \n",
    "    except TypeError:\n",
    "        \n",
    "        return 'None'\n"
   ]
  },
  {
   "cell_type": "code",
   "execution_count": 162,
   "metadata": {
    "collapsed": false
   },
   "outputs": [],
   "source": [
    "# get the sample tweet rates\n",
    "sample_tr = [tweet_rate(sample_tw[i]) for i in range(len(sample_tw))]    \n",
    "sample_tr = pd.Series(sample_tr)"
   ]
  },
  {
   "cell_type": "code",
   "execution_count": 163,
   "metadata": {
    "collapsed": false
   },
   "outputs": [
    {
     "name": "stderr",
     "output_type": "stream",
     "text": [
      "/anaconda/lib/python2.7/site-packages/ipykernel/__main__.py:5: SettingWithCopyWarning: \n",
      "A value is trying to be set on a copy of a slice from a DataFrame.\n",
      "Try using .loc[row_indexer,col_indexer] = value instead\n",
      "\n",
      "See the caveats in the documentation: http://pandas.pydata.org/pandas-docs/stable/indexing.html#indexing-view-versus-copy\n",
      "/anaconda/lib/python2.7/site-packages/ipykernel/__main__.py:8: FutureWarning: sort(columns=....) is deprecated, use sort_values(by=.....)\n"
     ]
    }
   ],
   "source": [
    "# reset the orders by ids\n",
    "sample_f6['ids_cat'] = pd.Categorical(\n",
    "    sample_f6['id'], \n",
    "    categories=ids, \n",
    "    ordered=True\n",
    ")\n",
    "\n",
    "sample_f6 = sample_f6.sort('ids_cat').drop('ids_cat', 1)"
   ]
  },
  {
   "cell_type": "code",
   "execution_count": 164,
   "metadata": {
    "collapsed": false
   },
   "outputs": [],
   "source": [
    "# reindex\n",
    "sample_f6 = sample_f6.reset_index().drop('index', 1)"
   ]
  },
  {
   "cell_type": "code",
   "execution_count": 165,
   "metadata": {
    "collapsed": false
   },
   "outputs": [],
   "source": [
    "# add sample tweet rate\n",
    "sample_f6['tweet_rate'] = sample_tr"
   ]
  },
  {
   "cell_type": "code",
   "execution_count": 166,
   "metadata": {
    "collapsed": false,
    "scrolled": true
   },
   "outputs": [
    {
     "data": {
      "text/html": [
       "<div>\n",
       "<table border=\"1\" class=\"dataframe\">\n",
       "  <thead>\n",
       "    <tr style=\"text-align: right;\">\n",
       "      <th></th>\n",
       "      <th>id</th>\n",
       "      <th>followers_count</th>\n",
       "      <th>following</th>\n",
       "      <th>statuses_count</th>\n",
       "      <th>ff_ratio</th>\n",
       "      <th>age</th>\n",
       "      <th>following_rate</th>\n",
       "      <th>tweet_rate</th>\n",
       "    </tr>\n",
       "  </thead>\n",
       "  <tbody>\n",
       "    <tr>\n",
       "      <th>0</th>\n",
       "      <td>3301875373</td>\n",
       "      <td>47.0</td>\n",
       "      <td>716.0</td>\n",
       "      <td>844.0</td>\n",
       "      <td>15.234043</td>\n",
       "      <td>657.0</td>\n",
       "      <td>1.089802</td>\n",
       "      <td>9.93902</td>\n",
       "    </tr>\n",
       "    <tr>\n",
       "      <th>1</th>\n",
       "      <td>3169917217</td>\n",
       "      <td>20.0</td>\n",
       "      <td>940.0</td>\n",
       "      <td>20.0</td>\n",
       "      <td>47.000000</td>\n",
       "      <td>754.0</td>\n",
       "      <td>1.246684</td>\n",
       "      <td>None</td>\n",
       "    </tr>\n",
       "    <tr>\n",
       "      <th>2</th>\n",
       "      <td>2489408846</td>\n",
       "      <td>21.0</td>\n",
       "      <td>396.0</td>\n",
       "      <td>1060.0</td>\n",
       "      <td>18.857143</td>\n",
       "      <td>1102.0</td>\n",
       "      <td>0.359347</td>\n",
       "      <td>15.1884</td>\n",
       "    </tr>\n",
       "    <tr>\n",
       "      <th>3</th>\n",
       "      <td>2418101186</td>\n",
       "      <td>12.0</td>\n",
       "      <td>487.0</td>\n",
       "      <td>69.0</td>\n",
       "      <td>40.583333</td>\n",
       "      <td>1145.0</td>\n",
       "      <td>0.425328</td>\n",
       "      <td>2.55556</td>\n",
       "    </tr>\n",
       "    <tr>\n",
       "      <th>4</th>\n",
       "      <td>2500271185</td>\n",
       "      <td>25.0</td>\n",
       "      <td>672.0</td>\n",
       "      <td>2832.0</td>\n",
       "      <td>26.880000</td>\n",
       "      <td>1096.0</td>\n",
       "      <td>0.613139</td>\n",
       "      <td>18.3684</td>\n",
       "    </tr>\n",
       "  </tbody>\n",
       "</table>\n",
       "</div>"
      ],
      "text/plain": [
       "           id  followers_count  following  statuses_count   ff_ratio     age  \\\n",
       "0  3301875373             47.0      716.0           844.0  15.234043   657.0   \n",
       "1  3169917217             20.0      940.0            20.0  47.000000   754.0   \n",
       "2  2489408846             21.0      396.0          1060.0  18.857143  1102.0   \n",
       "3  2418101186             12.0      487.0            69.0  40.583333  1145.0   \n",
       "4  2500271185             25.0      672.0          2832.0  26.880000  1096.0   \n",
       "\n",
       "   following_rate tweet_rate  \n",
       "0        1.089802    9.93902  \n",
       "1        1.246684       None  \n",
       "2        0.359347    15.1884  \n",
       "3        0.425328    2.55556  \n",
       "4        0.613139    18.3684  "
      ]
     },
     "execution_count": 166,
     "metadata": {},
     "output_type": "execute_result"
    }
   ],
   "source": [
    "sample_f6.head()"
   ]
  },
  {
   "cell_type": "code",
   "execution_count": null,
   "metadata": {
    "collapsed": true
   },
   "outputs": [],
   "source": [
    "# get the different ratio"
   ]
  },
  {
   "cell_type": "code",
   "execution_count": 129,
   "metadata": {
    "collapsed": true
   },
   "outputs": [],
   "source": [
    "mob_def = 'Twitter for Android' or 'Twitter for iPhone' or 'Twitter for iPad' or 'Twitter for BlackBerry\\xae' or 'Twitter for Mac'\n",
    "web_def = 'Twitter Web Client' or 'Twitter for Websites'\n",
    "third_party = 'TweetDeck' or 'Facebook' or 'Instagram' or 'Echofon' or 'Tweetbot for i\\u039fS' or 'TweetCaster for Android' or 'Hootsuite' or 'SocialOomph'"
   ]
  },
  {
   "cell_type": "code",
   "execution_count": 141,
   "metadata": {
    "collapsed": false
   },
   "outputs": [],
   "source": [
    "from collections import Counter\n",
    "\n",
    "mobile_ratio = []\n",
    "website_ratio = []\n",
    "third_ratio = []\n",
    "other_ratio = []\n",
    "\n",
    "for i in range(len(sample_tw)):\n",
    "    try:\n",
    "        count_tw = Counter(sample_tw[i]['Source'])\n",
    "        mobile_ratio.append(count_tw[mob_def] / sum(count_tw.values()))\n",
    "        website_ratio.append(count_tw[web_def] / sum(count_tw.values()))\n",
    "        third_ratio.append(count_tw[third_party] / sum(count_tw.values()))\n",
    "        other_ratio.append(1- (count_tw[mob_def]+count_tw[web_def]+count_tw[third_party])/sum(count_tw.values()))\n",
    "    except (TypeError, ZeroDivisionError):\n",
    "        mobile_ratio.append('No tweets')\n",
    "        website_ratio.append('No tweets')\n",
    "        third_ratio.append('No tweets')\n",
    "        other_ratio.append('No tweets')"
   ]
  },
  {
   "cell_type": "code",
   "execution_count": 119,
   "metadata": {
    "collapsed": false
   },
   "outputs": [],
   "source": [
    "a = Counter()\n",
    "for i in range(len(sample_tw)):\n",
    "    try:\n",
    "        a += Counter(sample_tw[i]['Source'])\n",
    "    except TypeError:\n",
    "        pass"
   ]
  },
  {
   "cell_type": "code",
   "execution_count": 169,
   "metadata": {
    "collapsed": false
   },
   "outputs": [],
   "source": [
    "sample_f6['mobile_ratio'] = mobile_ratio"
   ]
  },
  {
   "cell_type": "code",
   "execution_count": 173,
   "metadata": {
    "collapsed": false
   },
   "outputs": [],
   "source": [
    "sample_f6['website_ratio'] = website_ratio\n",
    "sample_f6['third_ratio'] = third_ratio\n",
    "sample_f6['other_ratio'] = other_ratio"
   ]
  },
  {
   "cell_type": "code",
   "execution_count": 182,
   "metadata": {
    "collapsed": false
   },
   "outputs": [],
   "source": [
    "basic_f = pd.read_csv('./Dataset/update_data.csv', index_col = 0)\n",
    "sample_basic = basic_f[basic_f.id.isin(ids)]"
   ]
  },
  {
   "cell_type": "code",
   "execution_count": 183,
   "metadata": {
    "collapsed": false
   },
   "outputs": [
    {
     "name": "stderr",
     "output_type": "stream",
     "text": [
      "/anaconda/lib/python2.7/site-packages/ipykernel/__main__.py:4: SettingWithCopyWarning: \n",
      "A value is trying to be set on a copy of a slice from a DataFrame.\n",
      "Try using .loc[row_indexer,col_indexer] = value instead\n",
      "\n",
      "See the caveats in the documentation: http://pandas.pydata.org/pandas-docs/stable/indexing.html#indexing-view-versus-copy\n",
      "/anaconda/lib/python2.7/site-packages/ipykernel/__main__.py:7: FutureWarning: sort(columns=....) is deprecated, use sort_values(by=.....)\n"
     ]
    }
   ],
   "source": [
    "sample_basic['ids_cat'] = pd.Categorical(\n",
    "    sample_basic['id'], \n",
    "    categories=ids, \n",
    "    ordered=True\n",
    ")\n",
    "\n",
    "sample_basic = sample_basic.sort('ids_cat').drop('ids_cat', 1)"
   ]
  },
  {
   "cell_type": "code",
   "execution_count": 198,
   "metadata": {
    "collapsed": false
   },
   "outputs": [],
   "source": [
    "final_sample = pd.merge(sample_basic, sample_f6, on = 'id')"
   ]
  },
  {
   "cell_type": "code",
   "execution_count": 199,
   "metadata": {
    "collapsed": false
   },
   "outputs": [],
   "source": [
    "final_sample = final_sample[['id', 'user_name', 'screen_name', 'statuses_count_x',\n",
    "       'followers_count_x', 'friends_count', 'favourites_count',\n",
    "       'listed_count', 'url', 'lang', 'time_zone', 'location',\n",
    "       'default_profile', 'default_profile_image', 'geo_enabled',\n",
    "       'profile_image_url', 'profile_use_background_image',\n",
    "       'profile_background_image_url_https', 'profile_text_color',\n",
    "       'profile_image_url_https', 'profile_sidebar_border_color',\n",
    "       'profile_background_tile', 'profile_sidebar_fill_color',\n",
    "       'profile_background_image_url', 'profile_background_color',\n",
    "       'profile_link_color', 'utc_offset', 'is_translator',\n",
    "       'follow_request_sent', 'protected', 'verified', 'notifications',\n",
    "       'description', 'contributors_enabled', 'following_x', 'created_at', \n",
    "       'followers_count_y', 'following_y', 'statuses_count_y',\n",
    "       'ff_ratio', 'age', 'following_rate', 'tweet_rate', 'mobile_ratio',\n",
    "       'website_ratio', 'third_ratio', 'other_ratio', 'label']]"
   ]
  },
  {
   "cell_type": "code",
   "execution_count": 232,
   "metadata": {
    "collapsed": true
   },
   "outputs": [],
   "source": [
    "url = ['url', 'profile_image_url', 'profile_background_image_url_https', 'profile_image_url_https', 'profile_background_image_url']"
   ]
  },
  {
   "cell_type": "code",
   "execution_count": 233,
   "metadata": {
    "collapsed": false
   },
   "outputs": [],
   "source": [
    "for i in url:\n",
    "    final_sample[i] = np.where(final_sample[i].str.contains('http') == True, 1, 0)"
   ]
  },
  {
   "cell_type": "code",
   "execution_count": 237,
   "metadata": {
    "collapsed": false
   },
   "outputs": [],
   "source": [
    "final_sample.to_csv('sample_feature_guanyu.csv', encoding = 'utf-8')"
   ]
  },
  {
   "cell_type": "code",
   "execution_count": null,
   "metadata": {
    "collapsed": true
   },
   "outputs": [],
   "source": []
  },
  {
   "cell_type": "code",
   "execution_count": null,
   "metadata": {
    "collapsed": true
   },
   "outputs": [],
   "source": []
  }
 ],
 "metadata": {
  "anaconda-cloud": {},
  "kernelspec": {
   "display_name": "Python [conda root]",
   "language": "python",
   "name": "conda-root-py"
  },
  "language_info": {
   "codemirror_mode": {
    "name": "ipython",
    "version": 2
   },
   "file_extension": ".py",
   "mimetype": "text/x-python",
   "name": "python",
   "nbconvert_exporter": "python",
   "pygments_lexer": "ipython2",
   "version": "2.7.12"
  }
 },
 "nbformat": 4,
 "nbformat_minor": 2
}
