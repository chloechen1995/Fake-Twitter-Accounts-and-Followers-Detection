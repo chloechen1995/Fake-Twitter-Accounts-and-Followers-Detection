{
 "cells": [
  {
   "cell_type": "markdown",
   "metadata": {},
   "source": [
    "## Timing-based Features\n",
    "<li><strong>Tweeting rate:</strong> the average tweets per day [3]</li>\n",
    "<li><strong>Following Rate:</strong> Following rate reflects the speed at which an account follows other accounts. Since spammers will usually follow many other accounts in a short period of time, a high following rate of an account indicates that the account is likely a spam account. Since it is difficult to collect the time when an account follows another account, we use the ratio of an account’s following number to the age of the account at the time to obtain an approximate value. [1]</li>"
   ]
  },
  {
   "cell_type": "code",
   "execution_count": 30,
   "metadata": {
    "collapsed": true
   },
   "outputs": [],
   "source": [
    "from __future__ import division \n",
    "import pandas as pd"
   ]
  },
  {
   "cell_type": "code",
   "execution_count": 6,
   "metadata": {
    "collapsed": false
   },
   "outputs": [],
   "source": [
    "data = pd.read_csv('/Users/Aaron/Desktop/STA160/sample/24503_tweets.csv')"
   ]
  },
  {
   "cell_type": "code",
   "execution_count": 18,
   "metadata": {
    "collapsed": false
   },
   "outputs": [],
   "source": [
    "def tweet_rate(data):\n",
    "    dates = [i.rsplit()[0] for i in data['created_at']]\n",
    "    total_dates = len(set(dates))\n",
    "    tweet_rate = len(dates)/total_dates\n",
    "    \n",
    "    return tweet_rate"
   ]
  },
  {
   "cell_type": "code",
   "execution_count": 50,
   "metadata": {
    "collapsed": false
   },
   "outputs": [
    {
     "data": {
      "text/html": [
       "<div>\n",
       "<table border=\"1\" class=\"dataframe\">\n",
       "  <thead>\n",
       "    <tr style=\"text-align: right;\">\n",
       "      <th></th>\n",
       "      <th>id</th>\n",
       "      <th>created_at</th>\n",
       "      <th>source</th>\n",
       "      <th>favorite_count</th>\n",
       "      <th>retweet_count</th>\n",
       "      <th>tweet_text</th>\n",
       "      <th>id.1</th>\n",
       "    </tr>\n",
       "  </thead>\n",
       "  <tbody>\n",
       "    <tr>\n",
       "      <th>0</th>\n",
       "      <td>861495177160085504</td>\n",
       "      <td>2017-05-08 08:17:10</td>\n",
       "      <td>Twitter for iPhone</td>\n",
       "      <td>0</td>\n",
       "      <td>5</td>\n",
       "      <td>RT @marvelapp: \"Colormind is a deep learning A...</td>\n",
       "      <td>24503</td>\n",
       "    </tr>\n",
       "    <tr>\n",
       "      <th>1</th>\n",
       "      <td>860808162588405760</td>\n",
       "      <td>2017-05-06 10:47:13</td>\n",
       "      <td>Twitter for iPhone</td>\n",
       "      <td>3</td>\n",
       "      <td>3</td>\n",
       "      <td>Fab article on @qriously predicting capabiliti...</td>\n",
       "      <td>24503</td>\n",
       "    </tr>\n",
       "    <tr>\n",
       "      <th>2</th>\n",
       "      <td>858629489344921602</td>\n",
       "      <td>2017-04-30 10:29:57</td>\n",
       "      <td>Twitter for iPhone</td>\n",
       "      <td>0</td>\n",
       "      <td>0</td>\n",
       "      <td>@InfoTeragence Pls can you let's us know more ...</td>\n",
       "      <td>24503</td>\n",
       "    </tr>\n",
       "    <tr>\n",
       "      <th>3</th>\n",
       "      <td>858017371784609792</td>\n",
       "      <td>2017-04-28 17:57:37</td>\n",
       "      <td>Twitter for iPhone</td>\n",
       "      <td>0</td>\n",
       "      <td>0</td>\n",
       "      <td>@heinizach Of what? ;)</td>\n",
       "      <td>24503</td>\n",
       "    </tr>\n",
       "    <tr>\n",
       "      <th>4</th>\n",
       "      <td>857985619418529792</td>\n",
       "      <td>2017-04-28 15:51:26</td>\n",
       "      <td>Twitter for iPhone</td>\n",
       "      <td>0</td>\n",
       "      <td>0</td>\n",
       "      <td>@daria_saharova @VitoOneVC I am not into panel...</td>\n",
       "      <td>24503</td>\n",
       "    </tr>\n",
       "  </tbody>\n",
       "</table>\n",
       "</div>"
      ],
      "text/plain": [
       "                   id           created_at              source  \\\n",
       "0  861495177160085504  2017-05-08 08:17:10  Twitter for iPhone   \n",
       "1  860808162588405760  2017-05-06 10:47:13  Twitter for iPhone   \n",
       "2  858629489344921602  2017-04-30 10:29:57  Twitter for iPhone   \n",
       "3  858017371784609792  2017-04-28 17:57:37  Twitter for iPhone   \n",
       "4  857985619418529792  2017-04-28 15:51:26  Twitter for iPhone   \n",
       "\n",
       "   favorite_count  retweet_count  \\\n",
       "0               0              5   \n",
       "1               3              3   \n",
       "2               0              0   \n",
       "3               0              0   \n",
       "4               0              0   \n",
       "\n",
       "                                          tweet_text   id.1  \n",
       "0  RT @marvelapp: \"Colormind is a deep learning A...  24503  \n",
       "1  Fab article on @qriously predicting capabiliti...  24503  \n",
       "2  @InfoTeragence Pls can you let's us know more ...  24503  \n",
       "3                             @heinizach Of what? ;)  24503  \n",
       "4  @daria_saharova @VitoOneVC I am not into panel...  24503  "
      ]
     },
     "execution_count": 50,
     "metadata": {},
     "output_type": "execute_result"
    }
   ],
   "source": [
    "data.head()"
   ]
  },
  {
   "cell_type": "code",
   "execution_count": null,
   "metadata": {
    "collapsed": true
   },
   "outputs": [],
   "source": []
  },
  {
   "cell_type": "code",
   "execution_count": null,
   "metadata": {
    "collapsed": true
   },
   "outputs": [],
   "source": []
  },
  {
   "cell_type": "code",
   "execution_count": null,
   "metadata": {
    "collapsed": true
   },
   "outputs": [],
   "source": []
  },
  {
   "cell_type": "code",
   "execution_count": 45,
   "metadata": {
    "collapsed": false
   },
   "outputs": [],
   "source": [
    "feature_6 = pd.read_csv('/Users/Aaron/Desktop/STA160/feature_6.csv', index_col = 0)"
   ]
  },
  {
   "cell_type": "code",
   "execution_count": 46,
   "metadata": {
    "collapsed": false
   },
   "outputs": [
    {
     "data": {
      "text/html": [
       "<div>\n",
       "<table border=\"1\" class=\"dataframe\">\n",
       "  <thead>\n",
       "    <tr style=\"text-align: right;\">\n",
       "      <th></th>\n",
       "      <th>id</th>\n",
       "      <th>followers_count</th>\n",
       "      <th>following</th>\n",
       "      <th>statuses_count</th>\n",
       "      <th>ff_ratio</th>\n",
       "      <th>age</th>\n",
       "    </tr>\n",
       "  </thead>\n",
       "  <tbody>\n",
       "    <tr>\n",
       "      <th>0</th>\n",
       "      <td>1612469616</td>\n",
       "      <td>28.0</td>\n",
       "      <td>1658.0</td>\n",
       "      <td>1272.0</td>\n",
       "      <td>59.214286</td>\n",
       "      <td>1395.0</td>\n",
       "    </tr>\n",
       "    <tr>\n",
       "      <th>1</th>\n",
       "      <td>2250343435</td>\n",
       "      <td>19.0</td>\n",
       "      <td>380.0</td>\n",
       "      <td>9.0</td>\n",
       "      <td>20.000000</td>\n",
       "      <td>1247.0</td>\n",
       "    </tr>\n",
       "    <tr>\n",
       "      <th>2</th>\n",
       "      <td>2242372394</td>\n",
       "      <td>28.0</td>\n",
       "      <td>723.0</td>\n",
       "      <td>24.0</td>\n",
       "      <td>25.821429</td>\n",
       "      <td>1252.0</td>\n",
       "    </tr>\n",
       "    <tr>\n",
       "      <th>3</th>\n",
       "      <td>2405042394</td>\n",
       "      <td>36.0</td>\n",
       "      <td>640.0</td>\n",
       "      <td>2624.0</td>\n",
       "      <td>17.777778</td>\n",
       "      <td>1152.0</td>\n",
       "    </tr>\n",
       "    <tr>\n",
       "      <th>4</th>\n",
       "      <td>3258724782</td>\n",
       "      <td>18.0</td>\n",
       "      <td>838.0</td>\n",
       "      <td>377.0</td>\n",
       "      <td>46.555556</td>\n",
       "      <td>689.0</td>\n",
       "    </tr>\n",
       "  </tbody>\n",
       "</table>\n",
       "</div>"
      ],
      "text/plain": [
       "           id  followers_count  following  statuses_count   ff_ratio     age\n",
       "0  1612469616             28.0     1658.0          1272.0  59.214286  1395.0\n",
       "1  2250343435             19.0      380.0             9.0  20.000000  1247.0\n",
       "2  2242372394             28.0      723.0            24.0  25.821429  1252.0\n",
       "3  2405042394             36.0      640.0          2624.0  17.777778  1152.0\n",
       "4  3258724782             18.0      838.0           377.0  46.555556   689.0"
      ]
     },
     "execution_count": 46,
     "metadata": {},
     "output_type": "execute_result"
    }
   ],
   "source": [
    "feature_6.head()"
   ]
  },
  {
   "cell_type": "code",
   "execution_count": 48,
   "metadata": {
    "collapsed": false
   },
   "outputs": [],
   "source": [
    "following_rate = feature_6['following'] / feature_6['age']"
   ]
  },
  {
   "cell_type": "code",
   "execution_count": null,
   "metadata": {
    "collapsed": true
   },
   "outputs": [],
   "source": []
  }
 ],
 "metadata": {
  "anaconda-cloud": {},
  "kernelspec": {
   "display_name": "Python [conda root]",
   "language": "python",
   "name": "conda-root-py"
  },
  "language_info": {
   "codemirror_mode": {
    "name": "ipython",
    "version": 2
   },
   "file_extension": ".py",
   "mimetype": "text/x-python",
   "name": "python",
   "nbconvert_exporter": "python",
   "pygments_lexer": "ipython2",
   "version": "2.7.12"
  }
 },
 "nbformat": 4,
 "nbformat_minor": 2
}
