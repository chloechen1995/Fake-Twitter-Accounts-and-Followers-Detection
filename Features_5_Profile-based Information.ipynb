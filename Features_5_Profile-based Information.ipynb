{
 "cells": [
  {
   "cell_type": "markdown",
   "metadata": {},
   "source": [
    "## Profile-based Information\n",
    "<li>Number of followers</li>\n",
    "<li>Number of tweets</li>\n",
    "<li>Fo-fo ratio: the ratio of the number of an account's following to its followers</li>\n",
    "<li>Reputaion score</li>\n",
    "<li>Following choice: $F=\\frac{T_n}{D_n}$    \n",
    "where $T_n$ is the total number of names among the account's followings and $D_n$ is the number of distinct first names. This ratio attempts to detect whether an account likely used a list of names to pick its folloings or not.[4]</li>"
   ]
  },
  {
   "cell_type": "code",
   "execution_count": 1,
   "metadata": {
    "collapsed": true
   },
   "outputs": [],
   "source": [
    "import tweepy\n",
    "import glob\n",
    "import pandas as pd"
   ]
  },
  {
   "cell_type": "code",
   "execution_count": 2,
   "metadata": {
    "collapsed": true
   },
   "outputs": [],
   "source": [
    "# Twitter API setup\n",
    "CONSUMER_KEY = 'QifrSmYAQ2mjIf8kiPoL2kI4v'\n",
    "CONSUMER_SECRET = 'qHXPmXDd4Gw2cqZ5zKmDpU6drKEHTF396pj9qyoUYWDcLsFOlm'\n",
    "ACCESS_TOKEN = '3379234805-hUmhUJa0oV9V1mnKDuB6bitJ1QTEjdq2c9zE0RA'\n",
    "ACCESS_TOKEN_SECRET = 'cQiqDWDuoLj8SH68d6JuPhthToImk3WzmcQ3pbyxYfYK1'\n",
    "\n",
    "auth = tweepy.OAuthHandler(CONSUMER_KEY, CONSUMER_SECRET)\n",
    "auth.set_access_token(ACCESS_TOKEN, ACCESS_TOKEN_SECRET)\n",
    "\n",
    "api = tweepy.API(auth)"
   ]
  },
  {
   "cell_type": "code",
   "execution_count": 3,
   "metadata": {
    "collapsed": false
   },
   "outputs": [],
   "source": [
    "# ---------- Read In Data\n",
    "# load in genuine accounts data\n",
    "genuine = pd.read_csv(open('/Users/Aaron/Desktop/STA160/Dataset/User dataset/genuine account.csv', 'rU'), \n",
    "                      encoding = 'utf-8')\n",
    "\n",
    "# load in fake accounts data\n",
    "path =r'/Users/Aaron/Desktop/STA160/Dataset/User dataset/fake data/'\n",
    "allFiles = glob.glob(path + \"/*.csv\")\n",
    "fake = pd.DataFrame()\n",
    "list_ = []\n",
    "for file_ in allFiles:\n",
    "    df = pd.read_csv(open(file_, 'rU'), encoding = 'utf-8')\n",
    "    list_.append(df)\n",
    "fake = pd.concat(list_)\n"
   ]
  },
  {
   "cell_type": "markdown",
   "metadata": {},
   "source": [
    "### Followers"
   ]
  },
  {
   "cell_type": "code",
   "execution_count": 26,
   "metadata": {
    "collapsed": false
   },
   "outputs": [],
   "source": [
    "total_followers = genuine['followers_count'].append(fake['followers_count'], ignore_index=True)"
   ]
  },
  {
   "cell_type": "markdown",
   "metadata": {},
   "source": [
    "### Number of tweets"
   ]
  },
  {
   "cell_type": "code",
   "execution_count": 30,
   "metadata": {
    "collapsed": false
   },
   "outputs": [],
   "source": [
    "total_tweets = genuine['statuses_count'].append(fake['statuses_count'], ignore_index=True)"
   ]
  },
  {
   "cell_type": "markdown",
   "metadata": {},
   "source": [
    "### FF ratio"
   ]
  },
  {
   "cell_type": "code",
   "execution_count": 54,
   "metadata": {
    "collapsed": false
   },
   "outputs": [],
   "source": [
    "genuine_ff = genuine['friends_count']/genuine['followers_count']\n",
    "fake_ff = fake['friends_count']/fake['followers_count']\n",
    "total_ff = genuine_ff.append(fake_ff, ignore_index = True)"
   ]
  },
  {
   "cell_type": "markdown",
   "metadata": {},
   "source": [
    "### Following choice"
   ]
  },
  {
   "cell_type": "code",
   "execution_count": 6,
   "metadata": {
    "collapsed": true
   },
   "outputs": [],
   "source": [
    "def get_friends(user_id):\n",
    "    users = []\n",
    "    page_count = 0\n",
    "    \n",
    "    for user in tweepy.Cursor(api.friends, id=user_id, count=200).pages():\n",
    "        page_count += 1\n",
    "        print 'Getting page {} for friends'.format(page_count)\n",
    "        users.extend(user)\n",
    "        \n",
    "    get_names = [i.screen_name for i in users]\n",
    "    \n",
    "    \n",
    "    return get_names"
   ]
  },
  {
   "cell_type": "code",
   "execution_count": 7,
   "metadata": {
    "collapsed": false,
    "scrolled": true
   },
   "outputs": [
    {
     "name": "stdout",
     "output_type": "stream",
     "text": [
      "Getting page 1 for friends\n",
      "Getting page 2 for friends\n",
      "Getting page 3 for friends\n"
     ]
    }
   ],
   "source": [
    "a = get_friends('1502026416')"
   ]
  },
  {
   "cell_type": "code",
   "execution_count": 37,
   "metadata": {
    "collapsed": true
   },
   "outputs": [],
   "source": [
    "user = ['755745950']"
   ]
  },
  {
   "cell_type": "code",
   "execution_count": 54,
   "metadata": {
    "collapsed": false
   },
   "outputs": [
    {
     "name": "stdout",
     "output_type": "stream",
     "text": [
      "Getting page 1 for friends\n",
      "Getting page 2 for friends\n",
      "Getting page 3 for friends\n"
     ]
    }
   ],
   "source": [
    "users = []\n",
    "page_count = 0\n",
    "    \n",
    "\n",
    "for user in tweepy.Cursor(api.friends, id='1502026416', count=200).pages():\n",
    "        page_count += 1\n",
    "        print 'Getting page {} for friends'.format(page_count)\n",
    "        users.extend(user)"
   ]
  },
  {
   "cell_type": "markdown",
   "metadata": {},
   "source": [
    "After having trained the classiﬁer, it was clear that the F feature is not useful to detect spammers on Twitter, since both spammers and legitimate proﬁles in the training set had very similar values for this parameter. This suggests that Twitter spam bots do not pick their victims based on their name. Therefore, we removed the F feature from the Twitter spam classiﬁer."
   ]
  },
  {
   "cell_type": "markdown",
   "metadata": {},
   "source": [
    "### Features"
   ]
  },
  {
   "cell_type": "code",
   "execution_count": 57,
   "metadata": {
    "collapsed": false
   },
   "outputs": [],
   "source": [
    "features = pd.concat([total_followers, total_tweets, total_ff], axis = 1, keys = ['followers_count', 'statuses_count', 'FF_ratio'])"
   ]
  }
 ],
 "metadata": {
  "anaconda-cloud": {},
  "kernelspec": {
   "display_name": "Python [conda root]",
   "language": "python",
   "name": "conda-root-py"
  },
  "language_info": {
   "codemirror_mode": {
    "name": "ipython",
    "version": 2
   },
   "file_extension": ".py",
   "mimetype": "text/x-python",
   "name": "python",
   "nbconvert_exporter": "python",
   "pygments_lexer": "ipython2",
   "version": "2.7.12"
  }
 },
 "nbformat": 4,
 "nbformat_minor": 2
}
