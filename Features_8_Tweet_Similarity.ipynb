{
 "cells": [
  {
   "cell_type": "markdown",
   "metadata": {},
   "source": [
    "<li>Tweet similarity:   \n",
    "(1) $S=\\frac{\\sum_{p\\in P}c(p)}{l_al_p}$    \n",
    "where $P$ is the set of possible tweet-to-tweet combinations among any two tweets logged for a certain account, $p$ is a single pair, $c(p)$ is a function calculation the number of words two tweets share, $l_a$ is the average length of tweets posted by that user, and $l_p$ is the number of tweet combinations. A profile sending similar tweets will have a low value of S.[4] "
   ]
  },
  {
   "cell_type": "code",
   "execution_count": 55,
   "metadata": {
    "collapsed": false
   },
   "outputs": [],
   "source": [
    "import pandas as pd\n",
    "from nltk.corpus import stopwords\n",
    "from collections import Counter\n",
    "import itertools as it\n",
    "from math import factorial\n",
    "import numpy as np"
   ]
  },
  {
   "cell_type": "code",
   "execution_count": 36,
   "metadata": {
    "collapsed": true
   },
   "outputs": [],
   "source": [
    "def create_df(user_id):\n",
    "    \"\"\"\n",
    "    remove unnecessary words from the user_tweets.csv\n",
    "    \n",
    "    Argument: user_id\n",
    "    \n",
    "    Return: user_tweets dataframe\n",
    "    \"\"\"\n",
    "    user_id = str(user_id)\n",
    "    user_tweets = pd.read_csv(user_id + \"_tweets.csv\")\n",
    "    special_remove = [tweets.decode('unicode_escape').encode('ascii','ignore') for tweets in user_tweets['tweet_text']] \n",
    "    user_tweets['tweet_split'] = [tweets.lower().split() for tweets in special_remove]\n",
    "    user_tweets['tweet_split'] = [filter(lambda x: not (x.startswith(\"@\") or x.startswith(\"#\") or x.startswith(\"https:\") or x in stopwords.words(\"english\") or x.startswith(\"rt\")), tweet) for tweet in user_tweets['tweet_split']]\n",
    "    user_tweets['tweet_split_string'] = [' '.join(str(x) for x in tweets) for tweets in user_tweets['tweet_split']]\n",
    "    return user_tweets\n",
    "    "
   ]
  },
  {
   "cell_type": "code",
   "execution_count": 7,
   "metadata": {
    "collapsed": false
   },
   "outputs": [],
   "source": [
    "user_tweets = create_df(707741206416138240)"
   ]
  },
  {
   "cell_type": "code",
   "execution_count": 66,
   "metadata": {
    "collapsed": true
   },
   "outputs": [],
   "source": [
    "def cal_char(user_tweets):\n",
    "    \"\"\"\n",
    "    calculate the length of tweets\n",
    "    \n",
    "    Argument: user_tweets dataframe created by create_df function\n",
    "    \n",
    "    Return: the length of every tweet\n",
    "    \"\"\"\n",
    "    user_tweets['tweet_split'] = [tweets.lower().split() for tweets in user_tweets['tweet_text']]\n",
    "    user_tweets['tweet_string'] = [filter(lambda x: not (x.startswith(\"@\") or x.startswith(\"#\") or x.startswith(\"https:\") or x.startswith(\"rt\")), tweet) for tweet in user_tweets['tweet_split']]\n",
    "    char_count = [len(user_tweets['tweet_string'][i]) for i in range(len(user_tweets['tweet_string']))]\n",
    "    return char_count"
   ]
  },
  {
   "cell_type": "code",
   "execution_count": 9,
   "metadata": {
    "collapsed": true
   },
   "outputs": [],
   "source": [
    "def comb_2(tweet_df):\n",
    "    \"\"\"\n",
    "    calculate the number of tweet combinations\n",
    "    \n",
    "    Argument: num_tweets\n",
    "    \n",
    "    Return: total number of tweet combinations\n",
    "    \"\"\"\n",
    "    num_tweets = len(tweet_df['tweet_text'])\n",
    "    return int(factorial(num_tweets) / (factorial(2) * factorial(num_tweets - 2)))"
   ]
  },
  {
   "cell_type": "code",
   "execution_count": 10,
   "metadata": {
    "collapsed": true
   },
   "outputs": [],
   "source": [
    "def tweet_set(tweet_df):\n",
    "    \"\"\"\n",
    "    create a set of possible tweet-to-tweet combinations among any two tweets\n",
    "    \n",
    "    Argument: tweet_df\n",
    "    \n",
    "    Return: set of tweet combinations\n",
    "    \"\"\"\n",
    "    tweet_list = list(tweet_df[\"tweet_split\"])\n",
    "    tweet_tuples = list(it.combinations(tweet_list, 2))\n",
    "    tweet_df = pd.DataFrame(tweet_tuples, columns = [\"tweet_1\", \"tweet_2\"])\n",
    "    tweet_df[\"tweet_combination\"] = tweet_df[\"tweet_1\"] + tweet_df[\"tweet_2\"]\n",
    "    tweet_df['common_words'] = [set([x for x in tweet if tweet.count(x) > 1]) for tweet in tweet_df['tweet_combination']]\n",
    "    tweet_df['common_count'] = [len(tweet_df['common_words'][i]) for i in range(len(tweet_df['common_words']))]  \n",
    "    return tweet_df"
   ]
  },
  {
   "cell_type": "code",
   "execution_count": 11,
   "metadata": {
    "collapsed": false
   },
   "outputs": [],
   "source": [
    "tweet_comb = tweet_set(user_tweets)"
   ]
  },
  {
   "cell_type": "code",
   "execution_count": 71,
   "metadata": {
    "collapsed": false
   },
   "outputs": [],
   "source": [
    "def tweet_sim(user_id):\n",
    "    user_tweets = create_df(user_id)\n",
    "    char_count = cal_char(user_tweets)\n",
    "    tweet_comb = tweet_set(user_tweets)\n",
    "    sim_value = tweet_comb['common_count'].sum() / (np.mean(char_count) * comb_2(user_tweets))\n",
    "    return sim_value"
   ]
  },
  {
   "cell_type": "code",
   "execution_count": 72,
   "metadata": {
    "collapsed": false
   },
   "outputs": [
    {
     "data": {
      "text/plain": [
       "0.18818907302675614"
      ]
     },
     "execution_count": 72,
     "metadata": {},
     "output_type": "execute_result"
    }
   ],
   "source": [
    "# Fake Account\n",
    "tweet_sim(707741206416138240)"
   ]
  },
  {
   "cell_type": "code",
   "execution_count": 152,
   "metadata": {
    "collapsed": false
   },
   "outputs": [
    {
     "data": {
      "text/plain": [
       "0.11177355566759575"
      ]
     },
     "execution_count": 152,
     "metadata": {},
     "output_type": "execute_result"
    }
   ],
   "source": [
    "# Genuine Account\n",
    "tweet_sim(11630862)"
   ]
  },
  {
   "cell_type": "code",
   "execution_count": 85,
   "metadata": {
    "collapsed": false
   },
   "outputs": [],
   "source": [
    "final_data = pd.read_csv(open('final data.csv', 'rU'), \n",
    "                      encoding = 'utf-8')"
   ]
  },
  {
   "cell_type": "code",
   "execution_count": 141,
   "metadata": {
    "collapsed": true
   },
   "outputs": [],
   "source": [
    "for i in range(len(final_data)):\n",
    "    if final_data['label'][i] == \"spam\":\n",
    "        print i"
   ]
  },
  {
   "cell_type": "code",
   "execution_count": 149,
   "metadata": {
    "collapsed": false
   },
   "outputs": [
    {
     "name": "stdout",
     "output_type": "stream",
     "text": [
      "9039\n"
     ]
    }
   ],
   "source": [
    "for i in range(len(final_data)):\n",
    "    if final_data['id'][i] == 11630862:\n",
    "        print i"
   ]
  },
  {
   "cell_type": "code",
   "execution_count": 150,
   "metadata": {
    "collapsed": false
   },
   "outputs": [
    {
     "data": {
      "text/plain": [
       "u'genuine'"
      ]
     },
     "execution_count": 150,
     "metadata": {},
     "output_type": "execute_result"
    }
   ],
   "source": [
    "final_data['label'][9039]"
   ]
  },
  {
   "cell_type": "code",
   "execution_count": 137,
   "metadata": {
    "collapsed": false
   },
   "outputs": [
    {
     "name": "stdout",
     "output_type": "stream",
     "text": [
      "11829\n"
     ]
    }
   ],
   "source": [
    "for i in range(len(final_data)):\n",
    "    if final_data['id'][i] == 2731681:\n",
    "        print i"
   ]
  },
  {
   "cell_type": "code",
   "execution_count": 147,
   "metadata": {
    "collapsed": false
   },
   "outputs": [
    {
     "data": {
      "text/plain": [
       "u'genuine'"
      ]
     },
     "execution_count": 147,
     "metadata": {},
     "output_type": "execute_result"
    }
   ],
   "source": [
    "final_data['label'][11829]"
   ]
  },
  {
   "cell_type": "markdown",
   "metadata": {},
   "source": []
  },
  {
   "cell_type": "code",
   "execution_count": 73,
   "metadata": {
    "collapsed": true
   },
   "outputs": [],
   "source": []
  },
  {
   "cell_type": "code",
   "execution_count": 85,
   "metadata": {
    "collapsed": false
   },
   "outputs": [],
   "source": []
  },
  {
   "cell_type": "code",
   "execution_count": null,
   "metadata": {
    "collapsed": true
   },
   "outputs": [],
   "source": []
  },
  {
   "cell_type": "code",
   "execution_count": null,
   "metadata": {
    "collapsed": true
   },
   "outputs": [],
   "source": []
  }
 ],
 "metadata": {
  "kernelspec": {
   "display_name": "Python 2",
   "language": "python",
   "name": "python2"
  },
  "language_info": {
   "codemirror_mode": {
    "name": "ipython",
    "version": 2
   },
   "file_extension": ".py",
   "mimetype": "text/x-python",
   "name": "python",
   "nbconvert_exporter": "python",
   "pygments_lexer": "ipython2",
   "version": "2.7.13"
  }
 },
 "nbformat": 4,
 "nbformat_minor": 2
}
